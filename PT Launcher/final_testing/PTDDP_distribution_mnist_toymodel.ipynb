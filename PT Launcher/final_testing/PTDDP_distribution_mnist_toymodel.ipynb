{
 "cells": [
  {
   "cell_type": "markdown",
   "id": "e2f2979d",
   "metadata": {},
   "source": [
    "## PT DDP Launcher Testing\n",
    "This notebook tests the following combination:\n",
    "\n",
    "* image: PT training DLC with my changes\n",
    "* distribution = pytorchddp, backend = nccl"
   ]
  },
  {
   "cell_type": "code",
   "execution_count": 1,
   "id": "52e7a4b5",
   "metadata": {},
   "outputs": [
    {
     "name": "stdout",
     "output_type": "stream",
     "text": [
      "Found existing installation: sagemaker 2.100.0\n",
      "Uninstalling sagemaker-2.100.0:\n",
      "  Successfully uninstalled sagemaker-2.100.0\n"
     ]
    }
   ],
   "source": [
    "#!pip uninstall -y sagemaker"
   ]
  },
  {
   "cell_type": "code",
   "execution_count": 3,
   "id": "869c9df0",
   "metadata": {},
   "outputs": [
    {
     "name": "stdout",
     "output_type": "stream",
     "text": [
      "Requirement already satisfied: sagemaker in /home/ec2-user/anaconda3/envs/pytorch_latest_p36/lib/python3.6/site-packages (2.103.0)\n",
      "Requirement already satisfied: packaging>=20.0 in /home/ec2-user/anaconda3/envs/pytorch_latest_p36/lib/python3.6/site-packages (from sagemaker) (21.3)\n",
      "Requirement already satisfied: numpy<2.0,>=1.9.0 in /home/ec2-user/anaconda3/envs/pytorch_latest_p36/lib/python3.6/site-packages (from sagemaker) (1.19.5)\n",
      "Requirement already satisfied: pandas in /home/ec2-user/anaconda3/envs/pytorch_latest_p36/lib/python3.6/site-packages (from sagemaker) (1.1.5)\n",
      "Requirement already satisfied: google-pasta in /home/ec2-user/anaconda3/envs/pytorch_latest_p36/lib/python3.6/site-packages (from sagemaker) (0.2.0)\n",
      "Requirement already satisfied: protobuf<4.0,>=3.1 in /home/ec2-user/anaconda3/envs/pytorch_latest_p36/lib/python3.6/site-packages (from sagemaker) (3.19.4)\n",
      "Requirement already satisfied: importlib-metadata<5.0,>=1.4.0 in /home/ec2-user/anaconda3/envs/pytorch_latest_p36/lib/python3.6/site-packages (from sagemaker) (4.8.3)\n",
      "Requirement already satisfied: boto3<2.0,>=1.20.21 in /home/ec2-user/anaconda3/envs/pytorch_latest_p36/lib/python3.6/site-packages (from sagemaker) (1.23.10)\n",
      "Requirement already satisfied: smdebug-rulesconfig==1.0.1 in /home/ec2-user/anaconda3/envs/pytorch_latest_p36/lib/python3.6/site-packages (from sagemaker) (1.0.1)\n",
      "Requirement already satisfied: protobuf3-to-dict<1.0,>=0.1.5 in /home/ec2-user/anaconda3/envs/pytorch_latest_p36/lib/python3.6/site-packages (from sagemaker) (0.1.5)\n",
      "Requirement already satisfied: pathos in /home/ec2-user/anaconda3/envs/pytorch_latest_p36/lib/python3.6/site-packages (from sagemaker) (0.2.8)\n",
      "Requirement already satisfied: attrs<22,>=20.3.0 in /home/ec2-user/anaconda3/envs/pytorch_latest_p36/lib/python3.6/site-packages (from sagemaker) (21.4.0)\n",
      "Requirement already satisfied: s3transfer<0.6.0,>=0.5.0 in /home/ec2-user/anaconda3/envs/pytorch_latest_p36/lib/python3.6/site-packages (from boto3<2.0,>=1.20.21->sagemaker) (0.5.2)\n",
      "Requirement already satisfied: botocore<1.27.0,>=1.26.10 in /home/ec2-user/anaconda3/envs/pytorch_latest_p36/lib/python3.6/site-packages (from boto3<2.0,>=1.20.21->sagemaker) (1.26.10)\n",
      "Requirement already satisfied: jmespath<2.0.0,>=0.7.1 in /home/ec2-user/anaconda3/envs/pytorch_latest_p36/lib/python3.6/site-packages (from boto3<2.0,>=1.20.21->sagemaker) (0.10.0)\n",
      "Requirement already satisfied: zipp>=0.5 in /home/ec2-user/anaconda3/envs/pytorch_latest_p36/lib/python3.6/site-packages (from importlib-metadata<5.0,>=1.4.0->sagemaker) (3.6.0)\n",
      "Requirement already satisfied: typing-extensions>=3.6.4 in /home/ec2-user/anaconda3/envs/pytorch_latest_p36/lib/python3.6/site-packages (from importlib-metadata<5.0,>=1.4.0->sagemaker) (4.1.1)\n",
      "Requirement already satisfied: pyparsing!=3.0.5,>=2.0.2 in /home/ec2-user/anaconda3/envs/pytorch_latest_p36/lib/python3.6/site-packages (from packaging>=20.0->sagemaker) (3.0.9)\n",
      "Requirement already satisfied: six in /home/ec2-user/anaconda3/envs/pytorch_latest_p36/lib/python3.6/site-packages (from protobuf3-to-dict<1.0,>=0.1.5->sagemaker) (1.16.0)\n",
      "Requirement already satisfied: pytz>=2017.2 in /home/ec2-user/anaconda3/envs/pytorch_latest_p36/lib/python3.6/site-packages (from pandas->sagemaker) (2022.1)\n",
      "Requirement already satisfied: python-dateutil>=2.7.3 in /home/ec2-user/anaconda3/envs/pytorch_latest_p36/lib/python3.6/site-packages (from pandas->sagemaker) (2.8.2)\n",
      "Requirement already satisfied: multiprocess>=0.70.12 in /home/ec2-user/anaconda3/envs/pytorch_latest_p36/lib/python3.6/site-packages (from pathos->sagemaker) (0.70.12.2)\n",
      "Requirement already satisfied: dill>=0.3.4 in /home/ec2-user/anaconda3/envs/pytorch_latest_p36/lib/python3.6/site-packages (from pathos->sagemaker) (0.3.4)\n",
      "Requirement already satisfied: pox>=0.3.0 in /home/ec2-user/anaconda3/envs/pytorch_latest_p36/lib/python3.6/site-packages (from pathos->sagemaker) (0.3.0)\n",
      "Requirement already satisfied: ppft>=1.6.6.4 in /home/ec2-user/anaconda3/envs/pytorch_latest_p36/lib/python3.6/site-packages (from pathos->sagemaker) (1.6.6.4)\n",
      "Requirement already satisfied: urllib3<1.27,>=1.25.4 in /home/ec2-user/anaconda3/envs/pytorch_latest_p36/lib/python3.6/site-packages (from botocore<1.27.0,>=1.26.10->boto3<2.0,>=1.20.21->sagemaker) (1.26.11)\n",
      "Note: you may need to restart the kernel to use updated packages.\n"
     ]
    }
   ],
   "source": [
    "#Need Sagemaker v2.103.0 \n",
    "%pip install -U sagemaker"
   ]
  },
  {
   "cell_type": "code",
   "execution_count": 24,
   "id": "d27e878e",
   "metadata": {},
   "outputs": [
    {
     "name": "stdout",
     "output_type": "stream",
     "text": [
      "Name: sagemaker\n",
      "Version: 2.103.0\n",
      "Summary: Open source library for training and deploying models on Amazon SageMaker.\n",
      "Home-page: https://github.com/aws/sagemaker-python-sdk/\n",
      "Author: Amazon Web Services\n",
      "Author-email: \n",
      "License: Apache License 2.0\n",
      "Location: /home/ec2-user/anaconda3/envs/pytorch_latest_p36/lib/python3.6/site-packages\n",
      "Requires: attrs, boto3, google-pasta, importlib-metadata, numpy, packaging, pandas, pathos, protobuf, protobuf3-to-dict, smdebug-rulesconfig\n",
      "Required-by: \n",
      "Note: you may need to restart the kernel to use updated packages.\n"
     ]
    }
   ],
   "source": [
    "%pip show sagemaker"
   ]
  },
  {
   "cell_type": "code",
   "execution_count": 29,
   "id": "1783444a",
   "metadata": {},
   "outputs": [
    {
     "name": "stdout",
     "output_type": "stream",
     "text": [
      "sagemaker role arn: arn:aws:iam::570106654206:role/Dev\n",
      "sagemaker bucket: sagemaker-us-west-2-570106654206\n",
      "sagemaker session region: us-west-2\n"
     ]
    }
   ],
   "source": [
    "import sagemaker\n",
    "from sagemaker.local import LocalSession\n",
    "\n",
    "sess = sagemaker.Session()\n",
    "role = sagemaker.get_execution_role()\n",
    "\n",
    "#sess = LocalSession()\n",
    "#sess.config = {\"local\": {\"local_mode\": True }}\n",
    "print(f\"sagemaker role arn: {role}\")\n",
    "print(f\"sagemaker bucket: {sess.default_bucket()}\")\n",
    "print(f\"sagemaker session region: {sess.boto_region_name}\")\n",
    "#Add instructions for local environment later, if needed"
   ]
  },
  {
   "cell_type": "code",
   "execution_count": 30,
   "id": "dd7a5cdf",
   "metadata": {},
   "outputs": [],
   "source": [
    "region = \"us-west-2\"\n",
    "image = (\n",
    "    \"pt-ddp-custom\"  # Example: pt-smdataparallel-efficientnet-sagemaker\n",
    ")\n",
    "tag = \"1.12.0-gpu-py38-cu113-ubuntu20.04-sagemaker-2.6.0-numproc\"  # Example: latest\n"
   ]
  },
  {
   "cell_type": "code",
   "execution_count": 7,
   "id": "0a2b5fde",
   "metadata": {},
   "outputs": [],
   "source": [
    "# Uncomment and run only when docker push fails with OOM errors\n",
    "#! docker system prune -af"
   ]
  },
  {
   "cell_type": "code",
   "execution_count": 4,
   "id": "9bdaa5f4",
   "metadata": {},
   "outputs": [
    {
     "name": "stdout",
     "output_type": "stream",
     "text": [
      "WARNING! Your password will be stored unencrypted in /home/ec2-user/.docker/config.json.\n",
      "Configure a credential helper to remove this warning. See\n",
      "https://docs.docker.com/engine/reference/commandline/login/#credentials-store\n",
      "\n",
      "Login Succeeded\n"
     ]
    }
   ],
   "source": [
    "! aws ecr get-login-password --region {region} | docker login --username AWS --password-stdin 570106654206.dkr.ecr.{region}.amazonaws.com"
   ]
  },
  {
   "cell_type": "code",
   "execution_count": 31,
   "id": "e4413a57",
   "metadata": {},
   "outputs": [],
   "source": [
    "from sagemaker.pytorch import PyTorch\n",
    "\n",
    "# refer https://github.com/aws/deep-learning-containers/blob/master/available_images.md#huggingface-training-containers to get the right uri's based on region\n",
    "#Using URI from 08/11\n",
    "image_uri = '570106654206.dkr.ecr.us-west-2.amazonaws.com/pt-ddp-custom:1.12.0-gpu-py38-cu113-ubuntu20.04-sagemaker-2.6.0-numproc'\n",
    "\n",
    "# configuration for running training on smdistributed Data Parallel\n",
    "# this is the only line of code change required to leverage SageMaker Distributed Data Parallel\n",
    "distribution_pt_mpi = {'pytorchddp':{ 'enabled': True },\n",
    "               'mpi':{'enabled':True, 'num_of_processes_per_host':1}}\n",
    "distribution = {'pytorchddp':{ 'enabled': True }}"
   ]
  },
  {
   "cell_type": "markdown",
   "id": "81617a23",
   "metadata": {},
   "source": [
    "#### Test non-SMDDP supported instance type (g5.16xlarge)\n"
   ]
  },
  {
   "cell_type": "code",
   "execution_count": 18,
   "id": "95cc7d92",
   "metadata": {},
   "outputs": [],
   "source": [
    "estimator_g5 = PyTorch(\n",
    "    base_job_name=\"ptddp-mnist-test-g5\",\n",
    "    source_dir=\"../code\",\n",
    "    entry_point=\"train_ptddp_mnist.py\",\n",
    "    role=role,\n",
    "    py_version=\"py38\",\n",
    "    image_uri=image_uri,\n",
    "    # For training with multinode distributed training, set this count. Example: 2\n",
    "    instance_count=2,\n",
    "    # For training with p3dn instance use - ml.p3dn.24xlarge, with p4dn instance use - ml.p4d.24xlarge\n",
    "    instance_type=\"ml.g5.16xlarge\",\n",
    "    sagemaker_session=sess,\n",
    "    # Training using SMDataParallel Distributed Training Framework\n",
    "    distribution=distribution,\n",
    "    debugger_hook_config=False,\n",
    ")"
   ]
  },
  {
   "cell_type": "code",
   "execution_count": 19,
   "id": "3802a05b",
   "metadata": {},
   "outputs": [
    {
     "data": {
      "text/plain": [
       "'ptddp-mnist-test-g5-2022-08-12-21-01-47-371'"
      ]
     },
     "execution_count": 19,
     "metadata": {},
     "output_type": "execute_result"
    }
   ],
   "source": [
    "estimator_g5.fit(wait=False)\n",
    "estimator_g5.latest_training_job.name"
   ]
  },
  {
   "cell_type": "markdown",
   "id": "a1d15097",
   "metadata": {},
   "source": [
    "#### Test CPU runs with backend = gloo"
   ]
  },
  {
   "cell_type": "code",
   "execution_count": 34,
   "id": "ebe000e4",
   "metadata": {},
   "outputs": [],
   "source": [
    "estimator_cpu = PyTorch(\n",
    "    base_job_name=\"ptddp-mnist-test-gloo\",\n",
    "    source_dir=\"../code\",\n",
    "    entry_point=\"train_ptddp_mnist_gloo.py\",\n",
    "    role=role,\n",
    "    py_version=\"py38\",\n",
    "    image_uri=image_uri,\n",
    "    # For training with multinode distributed training, set this count. Example: 2\n",
    "    instance_count=2,\n",
    "    # For training with p3dn instance use - ml.p3dn.24xlarge, with p4dn instance use - ml.p4d.24xlarge\n",
    "    instance_type=\"ml.p4d.24xlarge\",\n",
    "    sagemaker_session=sess,\n",
    "    # Training using SMDataParallel Distributed Training Framework\n",
    "    distribution=distribution,\n",
    "    debugger_hook_config=False,\n",
    ")"
   ]
  },
  {
   "cell_type": "code",
   "execution_count": 35,
   "id": "a7f27078",
   "metadata": {},
   "outputs": [
    {
     "data": {
      "text/plain": [
       "'ptddp-mnist-test-gloo-2022-08-13-18-54-03-474'"
      ]
     },
     "execution_count": 35,
     "metadata": {},
     "output_type": "execute_result"
    }
   ],
   "source": [
    "estimator_cpu.fit(wait=False)\n",
    "estimator_cpu.latest_training_job.name"
   ]
  },
  {
   "cell_type": "markdown",
   "id": "93fb66d4",
   "metadata": {},
   "source": [
    "#### Test bigger clusters"
   ]
  },
  {
   "cell_type": "code",
   "execution_count": 36,
   "id": "5b4718db",
   "metadata": {},
   "outputs": [],
   "source": [
    "estimator_8node = PyTorch(\n",
    "    base_job_name=\"ptddp-mnist-test-8node\",\n",
    "    source_dir=\"../code\",\n",
    "    entry_point=\"train_ptddp_mnist.py\",\n",
    "    role=role,\n",
    "    py_version=\"py38\",\n",
    "    image_uri=image_uri,\n",
    "    # For training with multinode distributed training, set this count. Example: 2\n",
    "    instance_count=8,\n",
    "    # For training with p3dn instance use - ml.p3dn.24xlarge, with p4dn instance use - ml.p4d.24xlarge\n",
    "    instance_type=\"ml.p4d.24xlarge\",\n",
    "    sagemaker_session=sess,\n",
    "    # Training using SMDataParallel Distributed Training Framework\n",
    "    distribution=distribution,\n",
    "    debugger_hook_config=False,\n",
    ")"
   ]
  },
  {
   "cell_type": "code",
   "execution_count": 37,
   "id": "5f4ba9eb",
   "metadata": {},
   "outputs": [
    {
     "data": {
      "text/plain": [
       "'ptddp-mnist-test-8node-2022-08-13-19-24-33-584'"
      ]
     },
     "execution_count": 37,
     "metadata": {},
     "output_type": "execute_result"
    }
   ],
   "source": [
    "estimator_8node.fit(wait=False)\n",
    "estimator_8node.latest_training_job.name"
   ]
  },
  {
   "cell_type": "code",
   "execution_count": 38,
   "id": "b690a458",
   "metadata": {},
   "outputs": [],
   "source": [
    "estimator_16node = PyTorch(\n",
    "    base_job_name=\"ptddp-mnist-test-16node\",\n",
    "    source_dir=\"../code\",\n",
    "    entry_point=\"train_ptddp_mnist.py\",\n",
    "    role=role,\n",
    "    py_version=\"py38\",\n",
    "    image_uri=image_uri,\n",
    "    # For training with multinode distributed training, set this count. Example: 2\n",
    "    instance_count=16,\n",
    "    # For training with p3dn instance use - ml.p3dn.24xlarge, with p4dn instance use - ml.p4d.24xlarge\n",
    "    instance_type=\"ml.p4d.24xlarge\",\n",
    "    sagemaker_session=sess,\n",
    "    # Training using SMDataParallel Distributed Training Framework\n",
    "    distribution=distribution,\n",
    "    debugger_hook_config=False,\n",
    ")"
   ]
  },
  {
   "cell_type": "code",
   "execution_count": 39,
   "id": "40ca2b40",
   "metadata": {},
   "outputs": [
    {
     "data": {
      "text/plain": [
       "'ptddp-mnist-test-16node-2022-08-13-19-41-02-914'"
      ]
     },
     "execution_count": 39,
     "metadata": {},
     "output_type": "execute_result"
    }
   ],
   "source": [
    "estimator_16node.fit(wait=False)\n",
    "estimator_16node.latest_training_job.name"
   ]
  },
  {
   "cell_type": "code",
   "execution_count": null,
   "id": "a58814c3",
   "metadata": {},
   "outputs": [],
   "source": []
  }
 ],
 "metadata": {
  "kernelspec": {
   "display_name": "conda_pytorch_latest_p36",
   "language": "python",
   "name": "conda_pytorch_latest_p36"
  },
  "language_info": {
   "codemirror_mode": {
    "name": "ipython",
    "version": 3
   },
   "file_extension": ".py",
   "mimetype": "text/x-python",
   "name": "python",
   "nbconvert_exporter": "python",
   "pygments_lexer": "ipython3",
   "version": "3.6.13"
  }
 },
 "nbformat": 4,
 "nbformat_minor": 5
}
